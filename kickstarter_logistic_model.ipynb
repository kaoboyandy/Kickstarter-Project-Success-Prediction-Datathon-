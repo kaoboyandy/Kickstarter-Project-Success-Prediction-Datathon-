{
 "cells": [
  {
   "cell_type": "code",
   "execution_count": 34,
   "metadata": {
    "collapsed": true
   },
   "outputs": [],
   "source": [
    "############################# Import Library ############################# \n",
    "\n",
    "import pandas as pd\n",
    "import numpy as np\n",
    "from scipy.sparse import hstack\n",
    "import datetime\n",
    "from sklearn import model_selection as ms\n",
    "from sklearn.preprocessing import StandardScaler, CategoricalEncoder\n",
    "from sklearn.linear_model import LogisticRegressionCV\n",
    "from sklearn.model_selection import KFold\n",
    "from sklearn.metrics import cohen_kappa_score, f1_score, accuracy_score, roc_auc_score, precision_score\n",
    "from sklearn.dummy import DummyClassifier"
   ]
  },
  {
   "cell_type": "code",
   "execution_count": 2,
   "metadata": {
    "collapsed": true
   },
   "outputs": [],
   "source": [
    "############################# Import Data & Cleasing ############################# \n",
    "\n",
    "raw_df = pd.read_csv('ks-projects-201801.csv')\n",
    "raw_df['launched'] = pd.to_datetime(raw_df['launched'])  \n",
    "raw_df['deadline'] = pd.to_datetime(raw_df['deadline']) \n",
    "#raw_df.head()\n",
    "raw_df = raw_df.loc[raw_df['launched'] < datetime.date(2018,1,1)]\n",
    "raw_df = raw_df.loc[raw_df['launched'] > datetime.date(2009,12,31)]\n",
    "raw_df = raw_df.loc[raw_df['launched'] < raw_df['deadline']]\n",
    "raw_df = raw_df.loc[raw_df['usd_goal_real'] > 0]\n",
    "raw_df = raw_df.loc[raw_df['state'].isin(['failed','canceled','suspended','successful'])]\n",
    "raw_df['period'] = (raw_df['deadline'] - raw_df['launched']).astype('timedelta64[D]')\n",
    "d = {'successful': True, 'failed': False, 'canceled': False, 'suspended': False}\n",
    "raw_df['successful'] = raw_df['state'].map(d)\n",
    "\n",
    "#raw_df = raw_df[['successful','country','category','usd_goal_real','period']]\n",
    "#raw_df.head()"
   ]
  },
  {
   "cell_type": "code",
   "execution_count": 3,
   "metadata": {
    "collapsed": true
   },
   "outputs": [],
   "source": [
    "############################# Test & Training split ############################# \n",
    "\n",
    "oot_df = raw_df.loc[raw_df['launched'] > datetime.date(2016,12,31)]\n",
    "oot_df = oot_df[['successful','country','category','usd_goal_real','period']]\n",
    "model_df = raw_df.loc[raw_df['launched'] < datetime.date(2017,1,1)]\n",
    "model_df = model_df[['successful','country','category','usd_goal_real','period']]\n",
    "\n",
    "oot_dev_x, oot_test_x, oot_dev_y, oot_test_y = ms.train_test_split(oot_df.drop(['successful'], axis=1), oot_df['successful'], test_size=0.5, random_state=123)\n",
    "train_x, test_x, train_y, test_y = ms.train_test_split(model_df.drop(['successful'], axis=1), model_df['successful'], test_size=0.3, random_state=456)\n"
   ]
  },
  {
   "cell_type": "code",
   "execution_count": 4,
   "metadata": {},
   "outputs": [
    {
     "data": {
      "text/plain": [
       "CategoricalEncoder(categories='auto', dtype=<class 'numpy.float64'>,\n",
       "          encoding='onehot', handle_unknown='ignore')"
      ]
     },
     "execution_count": 4,
     "metadata": {},
     "output_type": "execute_result"
    }
   ],
   "source": [
    "##############################################################################\n",
    "############################# Logi Model fitting #############################\n",
    "##############################################################################\n",
    "scaler = StandardScaler()\n",
    "enc = CategoricalEncoder(handle_unknown='ignore')\n",
    "scaler.fit(train_x[['usd_goal_real','period']])\n",
    "enc.fit(train_x[['country','category']])"
   ]
  },
  {
   "cell_type": "code",
   "execution_count": 5,
   "metadata": {
    "collapsed": true
   },
   "outputs": [],
   "source": [
    "scaled_train_x = hstack((\n",
    "    enc.transform(train_x[['country','category']]),\n",
    "    scaler.transform(train_x[['usd_goal_real','period']])\n",
    "))"
   ]
  },
  {
   "cell_type": "code",
   "execution_count": 8,
   "metadata": {
    "collapsed": true
   },
   "outputs": [],
   "source": [
    "dummymodel = DummyClassifier(random_state = 8764)\n",
    "dummymodel.fit(scaled_train_x,train_y)\n",
    "#rkf = RepeatedKFold(n_splits=10, n_repeats=10, random_state=2652124)\n",
    "kf = KFold(n_splits=10, shuffle = True, random_state = 2652124)\n",
    "logmodelcv = LogisticRegressionCV(\n",
    "    Cs = 50,\n",
    "    fit_intercept = True,\n",
    "    cv = kf,\n",
    "    penalty = 'l2',\n",
    "    scoring = 'roc_auc',\n",
    "    random_state = 8764,\n",
    "    max_iter = 1000,\n",
    "    n_jobs = 4\n",
    ")"
   ]
  },
  {
   "cell_type": "code",
   "execution_count": null,
   "metadata": {
    "collapsed": true
   },
   "outputs": [],
   "source": [
    "logmodelcv.fit(scaled_train_x,train_y)"
   ]
  },
  {
   "cell_type": "code",
   "execution_count": 13,
   "metadata": {
    "collapsed": true
   },
   "outputs": [],
   "source": [
    "from sklearn.externals import joblib\n",
    "#joblib.dump(logmodelcv, 'logmodelcv_20180414.pkl')\n",
    "#joblib.dump(scaler, 'logiscaler_20180414.pkl')\n",
    "#joblib.dump(enc, 'logienc_20180414.pkl')\n",
    "\n",
    "logmodelcv = joblib.load('logmodelcv_20180414.pkl') \n",
    "scaler = joblib.load('logiscaler_20180414.pkl')\n",
    "enc = joblib.load('logienc_20180414.pkl')"
   ]
  },
  {
   "cell_type": "code",
   "execution_count": 14,
   "metadata": {},
   "outputs": [
    {
     "data": {
      "text/plain": [
       "(0.6889799473796487, 0.5403452321695229)"
      ]
     },
     "execution_count": 14,
     "metadata": {},
     "output_type": "execute_result"
    }
   ],
   "source": [
    "logmodelcv.score(scaled_train_x,train_y),dummymodel.score(scaled_train_x,train_y)"
   ]
  },
  {
   "cell_type": "code",
   "execution_count": 15,
   "metadata": {
    "collapsed": true
   },
   "outputs": [],
   "source": [
    "############################# OOS Testing ############################# \n",
    "scaled_test_x = hstack((\n",
    "    enc.transform(test_x[['country','category']]),\n",
    "    scaler.transform(test_x[['usd_goal_real','period']])\n",
    "))"
   ]
  },
  {
   "cell_type": "code",
   "execution_count": 16,
   "metadata": {},
   "outputs": [
    {
     "data": {
      "text/plain": [
       "(0.6915267595117854, 0.5433409724886709)"
      ]
     },
     "execution_count": 16,
     "metadata": {},
     "output_type": "execute_result"
    }
   ],
   "source": [
    "logmodelcv.score(scaled_test_x,test_y),dummymodel.score(scaled_test_x,test_y)"
   ]
  },
  {
   "cell_type": "code",
   "execution_count": 17,
   "metadata": {
    "collapsed": true
   },
   "outputs": [],
   "source": [
    "############################# OOT Testing ############################# \n",
    "scaled_ootdev_x = hstack((\n",
    "    enc.transform(oot_dev_x[['country','category']]),\n",
    "    scaler.transform(oot_dev_x[['usd_goal_real','period']])\n",
    "))"
   ]
  },
  {
   "cell_type": "code",
   "execution_count": 18,
   "metadata": {},
   "outputs": [
    {
     "data": {
      "text/plain": [
       "(0.6742393672827052, 0.5313937535307884)"
      ]
     },
     "execution_count": 18,
     "metadata": {},
     "output_type": "execute_result"
    }
   ],
   "source": [
    "logmodelcv.score(scaled_ootdev_x,oot_dev_y),dummymodel.score(scaled_ootdev_x,oot_dev_y)"
   ]
  },
  {
   "cell_type": "code",
   "execution_count": 19,
   "metadata": {},
   "outputs": [
    {
     "data": {
      "text/plain": [
       "(0.2630430442558327, -0.0002528663294800726)"
      ]
     },
     "execution_count": 19,
     "metadata": {},
     "output_type": "execute_result"
    }
   ],
   "source": [
    "############################# cohen_kappa_score #############################\n",
    "cohen_kappa_score(train_y,logmodelcv.predict(scaled_train_x)),cohen_kappa_score(train_y,dummymodel.predict(scaled_train_x))"
   ]
  },
  {
   "cell_type": "code",
   "execution_count": 20,
   "metadata": {},
   "outputs": [
    {
     "data": {
      "text/plain": [
       "(0.26768574601223094, 0.005876974511747068)"
      ]
     },
     "execution_count": 20,
     "metadata": {},
     "output_type": "execute_result"
    }
   ],
   "source": [
    "cohen_kappa_score(test_y,logmodelcv.predict(scaled_test_x)),cohen_kappa_score(test_y,dummymodel.predict(scaled_test_x))"
   ]
  },
  {
   "cell_type": "code",
   "execution_count": 21,
   "metadata": {},
   "outputs": [
    {
     "data": {
      "text/plain": [
       "(0.2310030782080431, -0.007896910740168073)"
      ]
     },
     "execution_count": 21,
     "metadata": {},
     "output_type": "execute_result"
    }
   ],
   "source": [
    "cohen_kappa_score(oot_dev_y,logmodelcv.predict(scaled_ootdev_x)),cohen_kappa_score(oot_dev_y,dummymodel.predict(scaled_ootdev_x))"
   ]
  },
  {
   "cell_type": "code",
   "execution_count": 22,
   "metadata": {},
   "outputs": [
    {
     "data": {
      "text/plain": [
       "(0.46693377614600634, 0.3576024844720497)"
      ]
     },
     "execution_count": 22,
     "metadata": {},
     "output_type": "execute_result"
    }
   ],
   "source": [
    "############################# f1_score #############################\n",
    "f1_score(train_y,logmodelcv.predict(scaled_train_x)),f1_score(train_y,dummymodel.predict(scaled_train_x))"
   ]
  },
  {
   "cell_type": "code",
   "execution_count": 23,
   "metadata": {},
   "outputs": [
    {
     "data": {
      "text/plain": [
       "(0.47015656448711335, 0.3612178882780429)"
      ]
     },
     "execution_count": 23,
     "metadata": {},
     "output_type": "execute_result"
    }
   ],
   "source": [
    "f1_score(test_y,logmodelcv.predict(scaled_test_x)),f1_score(test_y,dummymodel.predict(scaled_test_x))"
   ]
  },
  {
   "cell_type": "code",
   "execution_count": 24,
   "metadata": {},
   "outputs": [
    {
     "data": {
      "text/plain": [
       "(0.4304761904761905, 0.362378520836765)"
      ]
     },
     "execution_count": 24,
     "metadata": {},
     "output_type": "execute_result"
    }
   ],
   "source": [
    "f1_score(oot_dev_y,logmodelcv.predict(scaled_ootdev_x)),f1_score(oot_dev_y,dummymodel.predict(scaled_ootdev_x))"
   ]
  },
  {
   "cell_type": "code",
   "execution_count": 25,
   "metadata": {},
   "outputs": [
    {
     "data": {
      "text/plain": [
       "(0.6207501184272698, 0.4998736057130218)"
      ]
     },
     "execution_count": 25,
     "metadata": {},
     "output_type": "execute_result"
    }
   ],
   "source": [
    "############################# roc_auc_score #############################\n",
    "roc_auc_score(train_y,logmodelcv.predict(scaled_train_x)),roc_auc_score(train_y,dummymodel.predict(scaled_train_x))"
   ]
  },
  {
   "cell_type": "code",
   "execution_count": 26,
   "metadata": {},
   "outputs": [
    {
     "data": {
      "text/plain": [
       "(0.6229049693399552, 0.5029425910536589)"
      ]
     },
     "execution_count": 26,
     "metadata": {},
     "output_type": "execute_result"
    }
   ],
   "source": [
    "roc_auc_score(test_y,logmodelcv.predict(scaled_test_x)),roc_auc_score(test_y,dummymodel.predict(scaled_test_x))"
   ]
  },
  {
   "cell_type": "code",
   "execution_count": 27,
   "metadata": {},
   "outputs": [
    {
     "data": {
      "text/plain": [
       "(0.6045813774860254, 0.49607615556713214)"
      ]
     },
     "execution_count": 27,
     "metadata": {},
     "output_type": "execute_result"
    }
   ],
   "source": [
    "roc_auc_score(oot_dev_y,logmodelcv.predict(scaled_ootdev_x)),roc_auc_score(oot_dev_y,dummymodel.predict(scaled_ootdev_x))"
   ]
  },
  {
   "cell_type": "code",
   "execution_count": null,
   "metadata": {
    "collapsed": true
   },
   "outputs": [],
   "source": [
    "precision_score"
   ]
  },
  {
   "cell_type": "code",
   "execution_count": 36,
   "metadata": {},
   "outputs": [
    {
     "data": {
      "text/plain": [
       "(0.6193666260657734, 0.36813922356091033)"
      ]
     },
     "execution_count": 36,
     "metadata": {},
     "output_type": "execute_result"
    }
   ],
   "source": [
    "precision_score(oot_dev_y,logmodelcv.predict(scaled_ootdev_x)),precision_score(oot_dev_y,dummymodel.predict(scaled_ootdev_x))"
   ]
  },
  {
   "cell_type": "code",
   "execution_count": null,
   "metadata": {
    "collapsed": true
   },
   "outputs": [],
   "source": []
  },
  {
   "cell_type": "code",
   "execution_count": null,
   "metadata": {
    "collapsed": true
   },
   "outputs": [],
   "source": []
  },
  {
   "cell_type": "code",
   "execution_count": 33,
   "metadata": {},
   "outputs": [
    {
     "data": {
      "text/plain": [
       "(array([1.00000000e-04, 1.45634848e-04, 2.12095089e-04, 3.08884360e-04,\n",
       "        4.49843267e-04, 6.55128557e-04, 9.54095476e-04, 1.38949549e-03,\n",
       "        2.02358965e-03, 2.94705170e-03, 4.29193426e-03, 6.25055193e-03,\n",
       "        9.10298178e-03, 1.32571137e-02, 1.93069773e-02, 2.81176870e-02,\n",
       "        4.09491506e-02, 5.96362332e-02, 8.68511374e-02, 1.26485522e-01,\n",
       "        1.84206997e-01, 2.68269580e-01, 3.90693994e-01, 5.68986603e-01,\n",
       "        8.28642773e-01, 1.20679264e+00, 1.75751062e+00, 2.55954792e+00,\n",
       "        3.72759372e+00, 5.42867544e+00, 7.90604321e+00, 1.15139540e+01,\n",
       "        1.67683294e+01, 2.44205309e+01, 3.55648031e+01, 5.17947468e+01,\n",
       "        7.54312006e+01, 1.09854114e+02, 1.59985872e+02, 2.32995181e+02,\n",
       "        3.39322177e+02, 4.94171336e+02, 7.19685673e+02, 1.04811313e+03,\n",
       "        1.52641797e+03, 2.22299648e+03, 3.23745754e+03, 4.71486636e+03,\n",
       "        6.86648845e+03, 1.00000000e+04]), array([4714.86636346]))"
      ]
     },
     "execution_count": 33,
     "metadata": {},
     "output_type": "execute_result"
    }
   ],
   "source": [
    "logmodelcv.Cs_,logmodelcv.C_"
   ]
  },
  {
   "cell_type": "code",
   "execution_count": null,
   "metadata": {
    "collapsed": true
   },
   "outputs": [],
   "source": []
  },
  {
   "cell_type": "code",
   "execution_count": null,
   "metadata": {
    "collapsed": true
   },
   "outputs": [],
   "source": []
  }
 ],
 "metadata": {
  "kernelspec": {
   "display_name": "Python 3",
   "language": "python",
   "name": "python3"
  },
  "language_info": {
   "codemirror_mode": {
    "name": "ipython",
    "version": 3
   },
   "file_extension": ".py",
   "mimetype": "text/x-python",
   "name": "python",
   "nbconvert_exporter": "python",
   "pygments_lexer": "ipython3",
   "version": "3.6.3"
  }
 },
 "nbformat": 4,
 "nbformat_minor": 2
}
